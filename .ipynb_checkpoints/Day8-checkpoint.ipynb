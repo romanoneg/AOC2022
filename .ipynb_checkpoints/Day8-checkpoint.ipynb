{
 "cells": [
  {
   "cell_type": "code",
   "execution_count": 265,
   "id": "471329bd",
   "metadata": {},
   "outputs": [],
   "source": [
    "import numpy as np\n",
    "file = open(\"data/day8.txt\", \"r\").readlines()\n",
    "# print(file)\n",
    "forest = np.zeros((len(file),len(file)))\n",
    "for i in range(len(file)):\n",
    "    for j in range(len(file[i])-1):\n",
    "        forest[i][j] = file[i][j]\n",
    "\n"
   ]
  },
  {
   "cell_type": "code",
   "execution_count": 266,
   "id": "5f904544",
   "metadata": {},
   "outputs": [
    {
     "name": "stdout",
     "output_type": "stream",
     "text": [
      "(99, 99)\n"
     ]
    }
   ],
   "source": [
    "print(forest.shape)"
   ]
  },
  {
   "cell_type": "code",
   "execution_count": 267,
   "id": "b0dd9158",
   "metadata": {},
   "outputs": [
    {
     "name": "stdout",
     "output_type": "stream",
     "text": [
      "1684\n",
      "486540\n"
     ]
    }
   ],
   "source": [
    "trees = 0\n",
    "seen = 0\n",
    "\n",
    "for x in range(len(forest)):\n",
    "    for y in range(len(forest[x])):\n",
    "#         print(f\"doing: {forest[x][y]}, {(x,y)}\")\n",
    "        trees += is_visible(x,y)\n",
    "        seen = max(seen, num_vis(x,y))\n",
    "#         print(f\"{x,y} = seen {seen}\")\n",
    "\n",
    "print(trees)\n",
    "print(seen)\n"
   ]
  },
  {
   "cell_type": "code",
   "execution_count": 261,
   "id": "cc33860d",
   "metadata": {},
   "outputs": [],
   "source": [
    "def is_visible(x, y):\n",
    "    \n",
    "    seen = [True, True, True, True]\n",
    "    for tree in forest[x][:y]:\n",
    "        if forest[x][y] <= tree:\n",
    "            seen[0] = False\n",
    "            break\n",
    "            \n",
    "    \n",
    "\n",
    "    for tree in forest[x][y+1:]:\n",
    "        if forest[x][y] <= tree:\n",
    "            seen[1] = False\n",
    "            break \n",
    "            \n",
    "    \n",
    "\n",
    "    for tree in forest[:x, y:y+1].flatten():\n",
    "        if forest[x][y] <= tree:\n",
    "            seen[2] = False\n",
    "            break\n",
    "            \n",
    "    \n",
    "\n",
    "    for tree in forest[x+1:, y:y+1].flatten():\n",
    "        if forest[x][y] <= tree:    \n",
    "            seen[3] = False\n",
    "            break\n",
    "\n",
    "    if True in seen:\n",
    "        return 1\n",
    "    else:\n",
    "        return 0"
   ]
  },
  {
   "cell_type": "code",
   "execution_count": 259,
   "id": "b0625337",
   "metadata": {},
   "outputs": [],
   "source": [
    "def num_vis(x,y):\n",
    "    vx, vy, vxr, vyr  = 0, 0, 0, 0\n",
    "    \n",
    "    for tree in np.flip(forest[x][:y]):\n",
    "        vx += 1\n",
    "        if forest[x][y] <= tree:\n",
    "            break\n",
    "            \n",
    "    \n",
    "\n",
    "    for tree in forest[x][y+1:]:\n",
    "        vy += 1\n",
    "        if forest[x][y] <= tree:\n",
    "            break \n",
    "            \n",
    "    for tree in np.flip(forest[:x, y:y+1].flatten()):\n",
    "        vxr += 1\n",
    "        if forest[x][y] <= tree:\n",
    "            break\n",
    "            \n",
    "    \n",
    "\n",
    "    for tree in forest[x+1:, y:y+1].flatten():\n",
    "        vyr += 1\n",
    "        if forest[x][y] <= tree:    \n",
    "            break\n",
    "\n",
    "#     print(f\"{vx}, {vy}, {vxr}, {vyr}\")\n",
    "    return vx*vy*vxr*vyr\n"
   ]
  }
 ],
 "metadata": {
  "kernelspec": {
   "display_name": "Python 3 (ipykernel)",
   "language": "python",
   "name": "python3"
  },
  "language_info": {
   "codemirror_mode": {
    "name": "ipython",
    "version": 3
   },
   "file_extension": ".py",
   "mimetype": "text/x-python",
   "name": "python",
   "nbconvert_exporter": "python",
   "pygments_lexer": "ipython3",
   "version": "3.9.12"
  }
 },
 "nbformat": 4,
 "nbformat_minor": 5
}
