{
 "cells": [
  {
   "cell_type": "markdown",
   "id": "f6a5b622",
   "metadata": {},
   "source": [
    "# Part 1"
   ]
  },
  {
   "cell_type": "code",
   "execution_count": 38,
   "id": "ad079837",
   "metadata": {},
   "outputs": [],
   "source": [
    "file = open(\"data/day7.txt\", \"r\")\n",
    "\n",
    "all_dirs = []\n",
    "\n",
    "def find_dir_size():\n",
    "    size = 0\n",
    "    while((line := file.readline()) != '$ cd ..\\n' and line != ''):\n",
    "        if line.split(' ')[1] == 'cd':\n",
    "            dir_size = find_dir_size()\n",
    "            all_dirs.append(dir_size)\n",
    "            size += dir_size\n",
    "        elif line.split(' ')[0] != '$' and line.split(' ')[0] != 'dir':\n",
    "            try:\n",
    "                size += int(line.split(' ')[0])\n",
    "            except:\n",
    "                print(f\"trouble line: {line}\")\n",
    "    return size"
   ]
  },
  {
   "cell_type": "code",
   "execution_count": 39,
   "id": "f847207f",
   "metadata": {},
   "outputs": [
    {
     "name": "stdout",
     "output_type": "stream",
     "text": [
      "41035571\n"
     ]
    }
   ],
   "source": [
    "print(find_dir_size())"
   ]
  },
  {
   "cell_type": "code",
   "execution_count": 41,
   "id": "04c2dc44",
   "metadata": {},
   "outputs": [
    {
     "name": "stdout",
     "output_type": "stream",
     "text": [
      "1792222\n"
     ]
    }
   ],
   "source": [
    "summ = 0\n",
    "for dirr in all_dirs:\n",
    "    if dirr <= 100000:\n",
    "        summ += dirr\n",
    "print(summ)"
   ]
  },
  {
   "cell_type": "markdown",
   "id": "adb3a758",
   "metadata": {},
   "source": [
    "# part 2"
   ]
  },
  {
   "cell_type": "code",
   "execution_count": 42,
   "id": "0d9b6b6c",
   "metadata": {},
   "outputs": [
    {
     "name": "stdout",
     "output_type": "stream",
     "text": [
      "28964429\n"
     ]
    }
   ],
   "source": [
    "print(70000000 - all_dirs[-1])"
   ]
  },
  {
   "cell_type": "code",
   "execution_count": 43,
   "id": "412fca1e",
   "metadata": {},
   "outputs": [
    {
     "name": "stdout",
     "output_type": "stream",
     "text": [
      "1035571\n"
     ]
    }
   ],
   "source": [
    "print(30000000 - 28964429)"
   ]
  },
  {
   "cell_type": "code",
   "execution_count": 45,
   "id": "c9232490",
   "metadata": {},
   "outputs": [
    {
     "name": "stdout",
     "output_type": "stream",
     "text": [
      "1112963\n"
     ]
    }
   ],
   "source": [
    "possible = []\n",
    "for dirr in all_dirs:\n",
    "    if dirr > 1035571:\n",
    "        possible.append(dirr)\n",
    "print(min(possible))"
   ]
  }
 ],
 "metadata": {
  "kernelspec": {
   "display_name": "Python 3 (ipykernel)",
   "language": "python",
   "name": "python3"
  },
  "language_info": {
   "codemirror_mode": {
    "name": "ipython",
    "version": 3
   },
   "file_extension": ".py",
   "mimetype": "text/x-python",
   "name": "python",
   "nbconvert_exporter": "python",
   "pygments_lexer": "ipython3",
   "version": "3.9.12"
  }
 },
 "nbformat": 4,
 "nbformat_minor": 5
}
