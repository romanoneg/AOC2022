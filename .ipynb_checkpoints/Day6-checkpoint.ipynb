{
 "cells": [
  {
   "cell_type": "code",
   "execution_count": 2,
   "id": "a4e65470",
   "metadata": {},
   "outputs": [
    {
     "name": "stdout",
     "output_type": "stream",
     "text": [
      "1794\n"
     ]
    }
   ],
   "source": [
    "text = open(\"data/day6.txt\", \"r\").readlines()[0]\n",
    "\n",
    "buffer = text[:4]\n",
    "\n",
    "found = False\n",
    "\n",
    "for i in range(len(text)-3):\n",
    "    section = text[i:i+4]\n",
    "    for char in section:\n",
    "        if section.count(char) > 1:\n",
    "            found = False\n",
    "            break\n",
    "        found = True\n",
    "    if found:\n",
    "        print(i + 4)\n",
    "        break\n",
    "    "
   ]
  },
  {
   "cell_type": "code",
   "execution_count": 1,
   "id": "deb211c8",
   "metadata": {},
   "outputs": [
    {
     "name": "stdout",
     "output_type": "stream",
     "text": [
      "2851\n"
     ]
    }
   ],
   "source": [
    "text = open(\"data/day6.txt\", \"r\").readlines()[0]\n",
    "\n",
    "buffer = text[:14]\n",
    "\n",
    "found = False\n",
    "\n",
    "for i in range(len(text)-13):\n",
    "    section = text[i:i+14]\n",
    "    for char in section:\n",
    "        if section.count(char) > 1:\n",
    "            found = False\n",
    "            break\n",
    "        found = True\n",
    "    if found:\n",
    "        print(i + 14)\n",
    "        break\n",
    "    "
   ]
  },
  {
   "cell_type": "code",
   "execution_count": 3,
   "id": "5f14d50f",
   "metadata": {},
   "outputs": [],
   "source": [
    "def find_marker(buff_size):\n",
    "    text = open(\"data/day6.txt\", \"r\").readlines()[0]\n",
    "\n",
    "    buffer = text[:buff_size]\n",
    "\n",
    "    found = False\n",
    "\n",
    "    for i in range(len(text)-buff_size+1):\n",
    "        section = text[i:i+buff_size]\n",
    "        for char in section:\n",
    "            if section.count(char) > 1:\n",
    "                found = False\n",
    "                break\n",
    "            found = True\n",
    "        if found:\n",
    "            print(i + buff_size)\n",
    "            break"
   ]
  },
  {
   "cell_type": "code",
   "execution_count": null,
   "id": "a6918248",
   "metadata": {},
   "outputs": [],
   "source": []
  }
 ],
 "metadata": {
  "kernelspec": {
   "display_name": "Python 3 (ipykernel)",
   "language": "python",
   "name": "python3"
  },
  "language_info": {
   "codemirror_mode": {
    "name": "ipython",
    "version": 3
   },
   "file_extension": ".py",
   "mimetype": "text/x-python",
   "name": "python",
   "nbconvert_exporter": "python",
   "pygments_lexer": "ipython3",
   "version": "3.9.12"
  }
 },
 "nbformat": 4,
 "nbformat_minor": 5
}
