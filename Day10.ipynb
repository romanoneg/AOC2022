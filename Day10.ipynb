{
 "cells": [
  {
   "cell_type": "code",
   "execution_count": 24,
   "id": "f391267c",
   "metadata": {},
   "outputs": [
    {
     "name": "stdout",
     "output_type": "stream",
     "text": [
      "147\n",
      "240\n",
      ".###...##..###..#..#.###..####..##..###...\n",
      ".#..#.#..#.#..#.#..#.#..#.#....#..#.#..#..\n",
      ".#..#.#....#..#.####.###..###..#..#.###...\n",
      ".###..#.##.###..#..#.#..#.#....####.#..#..\n",
      ".#....#..#.#....#..#.#..#.#....#..#.#..#..\n",
      ".#.....###.#....#..#.###..####.#..#.###...\n",
      "..........................................\n",
      "..........................................\n"
     ]
    }
   ],
   "source": [
    "file = list(map(lambda x: x.replace('\\n', ''), open(\"data/day10.txt\", \"r\").readlines()))\n",
    "\n",
    "print(len(file))\n",
    "\n",
    "X = 1\n",
    "cycle = 0\n",
    "total = 0\n",
    "\n",
    "screen = [['.' for i in range(42)] for j in range(8)]\n",
    "\n",
    "def inc_cycle():\n",
    "    global cycle\n",
    "    global X\n",
    "    global total\n",
    "    \n",
    "    cycle += 1\n",
    "    if (cycle % 40) in [X, X+1, X+2]:\n",
    "        screen[cycle // 40][cycle % 40] = '#'\n",
    "    else:\n",
    "        screen[cycle // 40][cycle % 40] = '.'\n",
    "\n",
    "for line in file:\n",
    "    if line.split(' ')[0] == 'noop':\n",
    "        inc_cycle()\n",
    "    else:\n",
    "        inc_cycle()\n",
    "        inc_cycle()\n",
    "        X += int(line.split(' ')[1])\n",
    "\n",
    "print(cycle)\n",
    "for line in screen:\n",
    "    print(\"\".join(line))\n",
    "        \n"
   ]
  },
  {
   "cell_type": "code",
   "execution_count": null,
   "id": "a82db7a8",
   "metadata": {},
   "outputs": [],
   "source": []
  }
 ],
 "metadata": {
  "kernelspec": {
   "display_name": "Python 3 (ipykernel)",
   "language": "python",
   "name": "python3"
  },
  "language_info": {
   "codemirror_mode": {
    "name": "ipython",
    "version": 3
   },
   "file_extension": ".py",
   "mimetype": "text/x-python",
   "name": "python",
   "nbconvert_exporter": "python",
   "pygments_lexer": "ipython3",
   "version": "3.9.12"
  }
 },
 "nbformat": 4,
 "nbformat_minor": 5
}
