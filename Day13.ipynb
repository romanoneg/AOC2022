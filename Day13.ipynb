{
 "cells": [
  {
   "cell_type": "code",
   "execution_count": 34,
   "id": "e398e887",
   "metadata": {},
   "outputs": [],
   "source": [
    "file = list(map(lambda x: x.lstrip().replace(\"\\n\", ''), open(\"data/day13.txt\", \"r\").readlines()))"
   ]
  },
  {
   "cell_type": "code",
   "execution_count": 5,
   "id": "d4e2ec8e",
   "metadata": {},
   "outputs": [],
   "source": [
    "def compare_items(line1, line2):\n",
    "    \n",
    "    \n",
    "    for x,y in zip(line1, line2):\n",
    "        \n",
    "        if type(x) == int and type(y) == int:\n",
    "            if x > y:\n",
    "#                 print(f\"Testing {x} and {y} as ints, wrong order\")\n",
    "                return -1\n",
    "            if x < y:\n",
    "#                 print(f\"Testing {x} and {y} as ints, right order\")\n",
    "                return 1\n",
    "#             print(f\"Testing {x} and {y} as ints, equal, continue\")\n",
    "        \n",
    "        if type(x) == int and type(y) != int:\n",
    "#             print(f\"Testing {[x]} and {y}\")\n",
    "            res = compare_items([x], y)\n",
    "            if res != 0:\n",
    "                return res\n",
    "        \n",
    "        if type(x) != int and type(y) == int:\n",
    "#             print(f\"Testing {x} and {[y]}\")\n",
    "            res = compare_items(x, [y])\n",
    "            if res != 0:\n",
    "                return res\n",
    "        \n",
    "        if type(x) != int and type(y) != int:\n",
    "#             print(f\"Testing {x} and {y}\")\n",
    "            res = compare_items(x, y)\n",
    "            if res != 0:\n",
    "                return res\n",
    "            \n",
    "    if len(line1) < len(line2):\n",
    "#         print(\"left side ran out of items first, right order\")\n",
    "        return 1\n",
    "    if len(line1) > len(line2):\n",
    "#         print(\"right side ran out of items first, wrong order\")\n",
    "        return -1\n",
    "    return 0"
   ]
  },
  {
   "cell_type": "code",
   "execution_count": 29,
   "id": "a158f54b",
   "metadata": {
    "scrolled": true
   },
   "outputs": [
    {
     "name": "stdout",
     "output_type": "stream",
     "text": [
      "5066\n"
     ]
    }
   ],
   "source": [
    "i = 0\n",
    "lnum = 1\n",
    "total = 0\n",
    "while i < len(file):\n",
    "    line1 = eval(file[i].replace(\"\\n\", ''))\n",
    "    line2 = eval(file[i + 1].replace(\"\\n\", ''))\n",
    "    \n",
    "#     print(f\"== Pair {lnum} ==\")\n",
    "#     print(f\"Compare {line1} vs {line2}\")\n",
    "    if compare_items(line1, line2) == 1:\n",
    "        total += lnum\n",
    "#         print(lnum)\n",
    "        \n",
    "    lnum += 1\n",
    "    i += 3\n",
    "    \n",
    "print(total)"
   ]
  },
  {
   "cell_type": "code",
   "execution_count": 30,
   "id": "fda9f056",
   "metadata": {},
   "outputs": [
    {
     "name": "stdout",
     "output_type": "stream",
     "text": [
      "20280\n"
     ]
    }
   ],
   "source": [
    "file = list(filter(None, file))\n",
    "\n",
    "for i in range(len(file)):\n",
    "    \n",
    "    for j in range(0, len(file)-i-1):\n",
    "        \n",
    "        if compare_items(eval(file[j]), eval(file[j+1])) == -1:\n",
    "            file[j], file[j+1] = file[j+1], file[j]\n",
    "\n",
    "\n",
    "# for line in file:\n",
    "#     print(line)\n",
    "\n",
    "print((file.index('[[2]]') + 1) * (1 + file.index('[[6]]')))"
   ]
  },
  {
   "cell_type": "code",
   "execution_count": 36,
   "id": "50267db5",
   "metadata": {},
   "outputs": [
    {
     "name": "stdout",
     "output_type": "stream",
     "text": [
      "[[7, 1], [9, 5, 8, 10], [[[5, 1, 0, 10], [10, 9, 2, 5]], 4, 5, 2, 2]]\n",
      "[[7, 1], [9, 5, 8, 1, 0], [[[5, 1, 0, 1, 0], [1, 0, 9, 2, 5]], 4, 5, 2, 2]]\n"
     ]
    }
   ],
   "source": [
    "file = list(filter(None, file))\n",
    "\n",
    "for line in file:\n",
    "    if read_arr(line) != eval(line):\n",
    "        print(eval(line))\n",
    "        print(read_arr(line))\n",
    "        break"
   ]
  },
  {
   "cell_type": "code",
   "execution_count": 32,
   "id": "b0c6a8f6",
   "metadata": {},
   "outputs": [],
   "source": [
    "def read_arr(string):\n",
    "    \n",
    "    arr = [] \n",
    "    i = 1\n",
    "    \n",
    "    while i < len(string):\n",
    "        if string[i] == '[':\n",
    "            foundat = -1\n",
    "            buff = 0\n",
    "            for ind in range(i+1, len(string)):\n",
    "                if string[ind] == '[':\n",
    "                    buff += 1\n",
    "                if string[ind] == ']':\n",
    "                    if buff == 0:\n",
    "                        foundat = ind\n",
    "                        break\n",
    "                    else:\n",
    "                        buff -= 1\n",
    "            arr.append(read_arr(string[i:foundat+1]))\n",
    "            i = foundat+1\n",
    "            continue\n",
    "            \n",
    "        if string[i] == ']':\n",
    "            i += 2\n",
    "            continue\n",
    "        \n",
    "        if string[i] == ',':\n",
    "            i +=1\n",
    "            continue\n",
    "            \n",
    "        arr.append(int(string[i]))\n",
    "        i += 1\n",
    "    \n",
    "    return arr\n",
    "        \n",
    "        "
   ]
  },
  {
   "cell_type": "code",
   "execution_count": null,
   "id": "9774c452",
   "metadata": {},
   "outputs": [],
   "source": []
  }
 ],
 "metadata": {
  "kernelspec": {
   "display_name": "Python 3 (ipykernel)",
   "language": "python",
   "name": "python3"
  },
  "language_info": {
   "codemirror_mode": {
    "name": "ipython",
    "version": 3
   },
   "file_extension": ".py",
   "mimetype": "text/x-python",
   "name": "python",
   "nbconvert_exporter": "python",
   "pygments_lexer": "ipython3",
   "version": "3.9.12"
  }
 },
 "nbformat": 4,
 "nbformat_minor": 5
}
