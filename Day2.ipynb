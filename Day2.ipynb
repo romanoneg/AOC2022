{
 "cells": [
  {
   "cell_type": "code",
   "execution_count": 4,
   "id": "dcde8c0e",
   "metadata": {},
   "outputs": [
    {
     "name": "stdout",
     "output_type": "stream",
     "text": [
      "13009\n"
     ]
    }
   ],
   "source": [
    "lines = open(\"day2.txt\", \"r\").readlines()\n",
    "\n",
    "total = 0\n",
    "\n",
    "for line in lines:\n",
    "    \n",
    "    score = 0\n",
    "    if line[2] == 'X':\n",
    "        score += 1\n",
    "        \n",
    "        if line[0] == 'A':\n",
    "            score += 3\n",
    "        if line[0] == 'B':\n",
    "            score += 0\n",
    "        if line[0] == 'C':\n",
    "            score += 6\n",
    "    \n",
    "    if line[2] == 'Y':\n",
    "        score += 2\n",
    "        \n",
    "        if line[0] == 'A':\n",
    "            score += 6\n",
    "        if line[0] == 'B':\n",
    "            score += 3\n",
    "        if line[0] == 'C':\n",
    "            score += 0\n",
    "        \n",
    "    if line[2] == 'Z':\n",
    "        score += 3\n",
    "        \n",
    "        if line[0] == 'A':\n",
    "            score += 0\n",
    "        if line[0] == 'B':\n",
    "            score += 6\n",
    "        if line[0] == 'C':\n",
    "            score += 3\n",
    "    \n",
    "    total += score\n",
    "    score = 0\n",
    "            \n",
    "print(total)"
   ]
  },
  {
   "cell_type": "code",
   "execution_count": 5,
   "id": "243be9ba",
   "metadata": {},
   "outputs": [
    {
     "name": "stdout",
     "output_type": "stream",
     "text": [
      "10398\n"
     ]
    }
   ],
   "source": [
    "lines = open(\"day2.txt\", \"r\").readlines()\n",
    "\n",
    "total = 0\n",
    "\n",
    "for line in lines:\n",
    "    \n",
    "    score = 0\n",
    "    if line[2] == 'X':\n",
    "        \n",
    "        if line[0] == 'A':\n",
    "            score += 3\n",
    "        if line[0] == 'B':\n",
    "            score += 1\n",
    "        if line[0] == 'C':\n",
    "            score += 2\n",
    "    \n",
    "    if line[2] == 'Y':\n",
    "        score += 3\n",
    "        \n",
    "        if line[0] == 'A':\n",
    "            score += 1\n",
    "        if line[0] == 'B':\n",
    "            score += 2\n",
    "        if line[0] == 'C':\n",
    "            score += 3\n",
    "        \n",
    "    if line[2] == 'Z':\n",
    "        score += 6\n",
    "        \n",
    "        if line[0] == 'A':\n",
    "            score += 2\n",
    "        if line[0] == 'B':\n",
    "            score += 3\n",
    "        if line[0] == 'C':\n",
    "            score += 1\n",
    "    \n",
    "    total += score\n",
    "    score = 0\n",
    "            \n",
    "print(total)"
   ]
  },
  {
   "cell_type": "code",
   "execution_count": null,
   "id": "752b253d",
   "metadata": {},
   "outputs": [],
   "source": []
  }
 ],
 "metadata": {
  "kernelspec": {
   "display_name": "Python 3 (ipykernel)",
   "language": "python",
   "name": "python3"
  },
  "language_info": {
   "codemirror_mode": {
    "name": "ipython",
    "version": 3
   },
   "file_extension": ".py",
   "mimetype": "text/x-python",
   "name": "python",
   "nbconvert_exporter": "python",
   "pygments_lexer": "ipython3",
   "version": "3.9.12"
  }
 },
 "nbformat": 4,
 "nbformat_minor": 5
}
