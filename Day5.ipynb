{
 "cells": [
  {
   "cell_type": "code",
   "execution_count": 6,
   "id": "03adb102",
   "metadata": {},
   "outputs": [
    {
     "name": "stdout",
     "output_type": "stream",
     "text": [
      "starting db: [['Q', 'F', 'M', 'R', 'L', 'W', 'C', 'V'], ['D', 'Q', 'L'], ['P', 'S', 'R', 'G', 'W', 'C', 'N', 'B'], ['L', 'C', 'D', 'H', 'B', 'Q', 'G'], ['V', 'G', 'L', 'F', 'Z', 'S'], ['D', 'G', 'N', 'P'], ['D', 'Z', 'P', 'V', 'F', 'C', 'W'], ['C', 'P', 'D', 'M', 'S'], ['Z', 'N', 'W', 'T', 'V', 'M', 'P', 'C']]\n",
      "\n",
      "VWLCWGSDQ\n"
     ]
    }
   ],
   "source": [
    "file = open(\"data/day5.txt\", \"r\").readlines()\n",
    "\n",
    "db = [[] for i in range(9)]\n",
    "\n",
    "for line in file[:8]:\n",
    "    for i in range(9):\n",
    "        if line[i + 1 + 3 * i] != ' ':\n",
    "            db[i].append(line[i + 1 + 3 * i])\n",
    "\n",
    "for i in range(len(db)):\n",
    "    db[i] = db[i][::-1]\n",
    "\n",
    "print(f\"starting db: {db}\\n\")\n",
    "\n",
    "for line in file[10:]:\n",
    "    \n",
    "    line = line[:-1].split(' ')\n",
    "    \n",
    "    for _ in range(int(line[1])):\n",
    "        moved = db[int(line[3])-1].pop()\n",
    "        loc = int(line[5])-1\n",
    "        db[int(line[5])-1].append(moved)\n",
    "    \n",
    "print(\"\".join([db[i][-1] for i in range(len(db))]))"
   ]
  },
  {
   "cell_type": "code",
   "execution_count": 7,
   "id": "e21d19f9",
   "metadata": {},
   "outputs": [
    {
     "name": "stdout",
     "output_type": "stream",
     "text": [
      "TCGLQSLPW\n"
     ]
    }
   ],
   "source": [
    "file = open(\"data/day5.txt\", \"r\").readlines()\n",
    "\n",
    "db = [[] for i in range(9)]\n",
    "\n",
    "for line in file[:8]:\n",
    "    for i in range(9):\n",
    "        if line[i + 1 + 3 * i] != ' ':\n",
    "            db[i].append(line[i + 1 + 3 * i])\n",
    "\n",
    "for i in range(len(db)):\n",
    "    db[i] = db[i][::-1]\n",
    "\n",
    "for line in file[10:]:\n",
    "    \n",
    "    line = line[:-1].split(' ')\n",
    "    \n",
    "    moved = db[int(line[3]) - 1][-int(line[1]):]\n",
    "    db[int(line[3])-1] = db[int(line[3]) - 1][:-int(line[1])]\n",
    "    \n",
    "    for char in moved:\n",
    "        db[int(line[5])-1].append(char)\n",
    "    \n",
    "print(\"\".join([db[i][-1] for i in range(len(db))]))"
   ]
  },
  {
   "cell_type": "code",
   "execution_count": null,
   "id": "ff23dde3",
   "metadata": {},
   "outputs": [],
   "source": []
  }
 ],
 "metadata": {
  "kernelspec": {
   "display_name": "Python 3 (ipykernel)",
   "language": "python",
   "name": "python3"
  },
  "language_info": {
   "codemirror_mode": {
    "name": "ipython",
    "version": 3
   },
   "file_extension": ".py",
   "mimetype": "text/x-python",
   "name": "python",
   "nbconvert_exporter": "python",
   "pygments_lexer": "ipython3",
   "version": "3.9.12"
  }
 },
 "nbformat": 4,
 "nbformat_minor": 5
}
