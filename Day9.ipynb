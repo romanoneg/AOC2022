{
 "cells": [
  {
   "cell_type": "code",
   "execution_count": 1,
   "id": "19470ad6",
   "metadata": {},
   "outputs": [],
   "source": [
    "file = list(map(lambda x: x.replace('\\n', ''), open(\"data/day9.txt\", \"r\").readlines()))"
   ]
  },
  {
   "cell_type": "code",
   "execution_count": 2,
   "id": "f85319b8",
   "metadata": {},
   "outputs": [
    {
     "name": "stdout",
     "output_type": "stream",
     "text": [
      "2000\n"
     ]
    }
   ],
   "source": [
    "print(len(file))"
   ]
  },
  {
   "cell_type": "code",
   "execution_count": 3,
   "id": "26708ec9",
   "metadata": {},
   "outputs": [],
   "source": [
    "def get_around(position):\n",
    "    x = position[0]\n",
    "    y = position[1]\n",
    "    \n",
    "    return [\n",
    "        [x-1, y+1], [x, y+1], [x+1, y+1], [x-1, y], [x, y], [x+1, y], [x-1, y-1], [x, y-1], [x+1, y-1]\n",
    "    ]\n",
    "\n",
    "def up(position, tail):\n",
    "    position[1] += 1\n",
    "    if tail not in get_around(position):\n",
    "        tail = [position[0], position[1]-1]\n",
    "    return position, tail\n",
    "\n",
    "def down(position, tail):\n",
    "    position[1] -= 1\n",
    "    if tail not in get_around(position):\n",
    "        tail = [position[0], position[1]+1]\n",
    "    return position, tail\n",
    "\n",
    "def left(position, tail):\n",
    "    position[0] -= 1\n",
    "    if tail not in get_around(position):\n",
    "        tail = [position[0]+1, position[1]]\n",
    "    return position, tail\n",
    "\n",
    "def right(position, tail):\n",
    "    position[0] += 1\n",
    "    if tail not in get_around(position):\n",
    "        tail = [position[0]-1, position[1]]\n",
    "    return position, tail"
   ]
  },
  {
   "cell_type": "code",
   "execution_count": 4,
   "id": "2978dbba",
   "metadata": {},
   "outputs": [],
   "source": [
    "def print_board(position, tail):\n",
    "    max_x, max_y = 0, 0\n",
    "    for pos in old:\n",
    "        max_x = max(max_x, abs(pos[1]))\n",
    "        max_y = max(max_y, abs(pos[0]))\n",
    "    arr = [['.' for i in range(max_y + 1)] for j in range(max_x + 1)]\n",
    "    for pos in old:\n",
    "        arr[pos[1]][pos[0]] = '*'\n",
    "#     arr[position[1]][position[0]] = 'H'\n",
    "#     arr[tail[1]][tail[0]] = 'T'\n",
    "    for line1 in arr[::-1]:\n",
    "        print(line1)\n",
    "    print(\"------------------------\")"
   ]
  },
  {
   "cell_type": "code",
   "execution_count": 5,
   "id": "20b86043",
   "metadata": {},
   "outputs": [
    {
     "name": "stdout",
     "output_type": "stream",
     "text": [
      "3379\n"
     ]
    }
   ],
   "source": [
    "position = [0, 0]\n",
    "tail = [0, 0]\n",
    "\n",
    "old = []\n",
    "\n",
    "for line in file:\n",
    "    if line[0] == 'U':\n",
    "        for _ in range(int(line[2])):\n",
    "            position, tail = up(position, tail)\n",
    "            if tail not in old:\n",
    "                old.append(tail)\n",
    "    \n",
    "    if line[0] == 'D':\n",
    "        for _ in range(int(line[2])):\n",
    "            position, tail = down(position, tail)\n",
    "            if tail not in old:\n",
    "                old.append(tail)\n",
    "                \n",
    "    if line[0] == 'L':\n",
    "        for _ in range(int(line[2])):\n",
    "            position, tail = left(position, tail)\n",
    "            if tail not in old:\n",
    "                old.append(tail)\n",
    "                \n",
    "    if line[0] == 'R':\n",
    "        for _ in range(int(line[2])):\n",
    "            position, tail = right(position, tail)\n",
    "            if tail not in old:\n",
    "                old.append(tail)\n",
    "\n",
    "print(len(old))"
   ]
  }
 ],
 "metadata": {
  "kernelspec": {
   "display_name": "Python 3 (ipykernel)",
   "language": "python",
   "name": "python3"
  },
  "language_info": {
   "codemirror_mode": {
    "name": "ipython",
    "version": 3
   },
   "file_extension": ".py",
   "mimetype": "text/x-python",
   "name": "python",
   "nbconvert_exporter": "python",
   "pygments_lexer": "ipython3",
   "version": "3.9.12"
  }
 },
 "nbformat": 4,
 "nbformat_minor": 5
}
