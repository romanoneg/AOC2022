{
 "cells": [
  {
   "cell_type": "code",
   "execution_count": 30,
   "id": "36315c38",
   "metadata": {},
   "outputs": [
    {
     "name": "stdout",
     "output_type": "stream",
     "text": [
      "464\n"
     ]
    }
   ],
   "source": [
    "file = open(\"day3.txt\", \"r\").readlines()\n",
    "\n",
    "score = 0\n",
    "\n",
    "for line in file:\n",
    "    \n",
    "    ass = line[:-1].split(',')\n",
    "    elf1 = ass[0].split('-')\n",
    "    elf2 = ass[1].split('-')\n",
    "\n",
    "    set1 = set(range(int(elf1[0]), int(elf1[1]) + 1))\n",
    "    set2 = set(range(int(elf2[0]), int(elf2[1])+1))\n",
    "    \n",
    "    if set1.issubset(set2) or set2.issubset(set1):\n",
    "        score += 1\n",
    "        \n",
    "        \n",
    "print(score)"
   ]
  },
  {
   "cell_type": "code",
   "execution_count": 29,
   "id": "65e3b224",
   "metadata": {},
   "outputs": [
    {
     "name": "stdout",
     "output_type": "stream",
     "text": [
      "770\n"
     ]
    }
   ],
   "source": [
    "file = open(\"day3.txt\", \"r\").readlines()\n",
    "\n",
    "score = 0\n",
    "\n",
    "for line in file:\n",
    "    \n",
    "    ass = line[:-1].split(',')\n",
    "    elf1 = ass[0].split('-')\n",
    "    elf2 = ass[1].split('-')\n",
    "\n",
    "    set1 = set(range(int(elf1[0]), int(elf1[1]) + 1))\n",
    "    set2 = set(range(int(elf2[0]), int(elf2[1])+1))\n",
    "    \n",
    "    if len(set1.intersection(set2)) != 0:\n",
    "        score += 1\n",
    "        \n",
    "        \n",
    "print(score)"
   ]
  },
  {
   "cell_type": "markdown",
   "id": "d9367695",
   "metadata": {},
   "source": [
    "# Test pour voir si GPTChat arriver a le faire\n",
    "j'ai passer 30s donc, je pense que ca marche mais j'ai un problem de format avec le txt donc ¯\\\\_(ツ)_/¯"
   ]
  },
  {
   "cell_type": "code",
   "execution_count": 37,
   "id": "4988cc5c",
   "metadata": {},
   "outputs": [
    {
     "name": "stdout",
     "output_type": "stream",
     "text": [
      "['34', '82']\n",
      "['33', '81\\n59', '59']\n"
     ]
    },
    {
     "ename": "ValueError",
     "evalue": "too many values to unpack (expected 2)",
     "output_type": "error",
     "traceback": [
      "\u001b[1;31m---------------------------------------------------------------------------\u001b[0m",
      "\u001b[1;31mValueError\u001b[0m                                Traceback (most recent call last)",
      "Input \u001b[1;32mIn [37]\u001b[0m, in \u001b[0;36m<cell line: 8>\u001b[1;34m()\u001b[0m\n\u001b[0;32m      9\u001b[0m \u001b[38;5;28mprint\u001b[39m(pair\u001b[38;5;241m.\u001b[39msplit(\u001b[38;5;124m'\u001b[39m\u001b[38;5;124m-\u001b[39m\u001b[38;5;124m'\u001b[39m))\n\u001b[0;32m     10\u001b[0m \u001b[38;5;66;03m# Split the pair by '-' to get the start and end of each range\u001b[39;00m\n\u001b[1;32m---> 11\u001b[0m range1, range2 \u001b[38;5;241m=\u001b[39m pair\u001b[38;5;241m.\u001b[39msplit(\u001b[38;5;124m'\u001b[39m\u001b[38;5;124m-\u001b[39m\u001b[38;5;124m'\u001b[39m)\n\u001b[0;32m     13\u001b[0m \u001b[38;5;66;03m# Create a tuple of tuples of the form ((start1, end1), (start2, end2))\u001b[39;00m\n\u001b[0;32m     14\u001b[0m ranges \u001b[38;5;241m=\u001b[39m ((\u001b[38;5;28mint\u001b[39m(range1[\u001b[38;5;241m0\u001b[39m]), \u001b[38;5;28mint\u001b[39m(range1[\u001b[38;5;241m1\u001b[39m])), (\u001b[38;5;28mint\u001b[39m(range2[\u001b[38;5;241m0\u001b[39m]), \u001b[38;5;28mint\u001b[39m(range2[\u001b[38;5;241m1\u001b[39m])))\n",
      "\u001b[1;31mValueError\u001b[0m: too many values to unpack (expected 2)"
     ]
    }
   ],
   "source": [
    "# Read in the list of section assignment pairs\n",
    "section_pairs = open(\"day3.txt\", \"r\").read().strip().split(',')\n",
    "\n",
    "# Create a counter for the number of pairs where one range fully contains the other\n",
    "containment_count = 0\n",
    "\n",
    "# Parse each pair and check if one range fully contains the other\n",
    "for pair in section_pairs:\n",
    "    print(pair.split('-'))\n",
    "    # Split the pair by '-' to get the start and end of each range\n",
    "    range1, range2 = pair.split('-')\n",
    "\n",
    "    # Create a tuple of tuples of the form ((start1, end1), (start2, end2))\n",
    "    ranges = ((int(range1[0]), int(range1[1])), (int(range2[0]), int(range2[1])))\n",
    "\n",
    "    # Check if either range fully contains the other\n",
    "    if (ranges[0][0] <= ranges[1][0] and ranges[0][1] >= ranges[1][1]) or (ranges[1][0] <= ranges[0][0] and ranges[1][1] >= ranges[0][1]):\n",
    "    # If a range fully contains the other, increment the counter\n",
    "        containment_count += 1\n",
    "\n",
    "# Print the final count of ranges that fully contain each other\n",
    "print(containment_count)"
   ]
  }
 ],
 "metadata": {
  "kernelspec": {
   "display_name": "Python 3 (ipykernel)",
   "language": "python",
   "name": "python3"
  },
  "language_info": {
   "codemirror_mode": {
    "name": "ipython",
    "version": 3
   },
   "file_extension": ".py",
   "mimetype": "text/x-python",
   "name": "python",
   "nbconvert_exporter": "python",
   "pygments_lexer": "ipython3",
   "version": "3.9.12"
  }
 },
 "nbformat": 4,
 "nbformat_minor": 5
}
